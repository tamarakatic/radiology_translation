{
 "cells": [
  {
   "cell_type": "code",
   "execution_count": 21,
   "metadata": {},
   "outputs": [],
   "source": [
    "from numpy import genfromtxt\n",
    "import pandas as pd\n",
    "\n",
    "from sklearn.linear_model import LogisticRegression\n",
    "from sklearn.model_selection import StratifiedKFold\n",
    "from sklearn.neighbors import KNeighborsClassifier\n",
    "from sklearn.model_selection import train_test_split\n",
    "from sklearn.metrics import accuracy_score\n",
    "from sklearn.metrics import confusion_matrix\n",
    "from sklearn.metrics import f1_score\n",
    "\n",
    "import matplotlib.pyplot as plt\n",
    "from wordcloud import WordCloud\n",
    "\n",
    "%matplotlib inline"
   ]
  },
  {
   "cell_type": "code",
   "execution_count": 22,
   "metadata": {},
   "outputs": [],
   "source": [
    "sentences = pd.read_csv('../data/processed/temple_radio_1_2_sentences_with_translation.csv')\n",
    "sentences.Translation = [sent.strip() for sent in sentences.Translation.values]\n",
    "sent_embeddings = genfromtxt('../data/processed/temple_radio_1_2_sentence_embeddings.csv', delimiter=',')\n",
    "labels = pd.read_csv('../data/processed/labels.csv')"
   ]
  },
  {
   "cell_type": "code",
   "execution_count": 23,
   "metadata": {},
   "outputs": [],
   "source": [
    "sentences['class'] = 0 #\"no_finding\""
   ]
  },
  {
   "cell_type": "code",
   "execution_count": 24,
   "metadata": {},
   "outputs": [],
   "source": [
    "# [print(l) for l in list(set(list(sentences.Translation))) if l not in list(labels.Labels)]\n",
    "# [print(l) for l in list(labels.Labels) if l not in list(set(list(sentences.Translation)))]"
   ]
  },
  {
   "cell_type": "code",
   "execution_count": 25,
   "metadata": {},
   "outputs": [],
   "source": [
    "green = labels[:5]\n",
    "orange = labels[5:12]\n",
    "red = labels[12:18]\n",
    "purple = labels[18:20]"
   ]
  },
  {
   "cell_type": "code",
   "execution_count": 26,
   "metadata": {},
   "outputs": [],
   "source": [
    "def check_freq(label):\n",
    "    pos_res = (sentences['Translation'] == label)\n",
    "    return sentences[pos_res]"
   ]
  },
  {
   "cell_type": "code",
   "execution_count": 27,
   "metadata": {},
   "outputs": [],
   "source": [
    "green_indexes = []\n",
    "green_class = []\n",
    "for label in green.values.tolist():\n",
    "    result = check_freq(label[0])\n",
    "    green_indexes.extend(result.index.tolist())\n",
    "    \n",
    "green_class = [1 for item in green_indexes]\n",
    "sentences.loc[green_indexes, 'class'] = green_class"
   ]
  },
  {
   "cell_type": "code",
   "execution_count": 63,
   "metadata": {},
   "outputs": [
    {
     "data": {
      "text/plain": [
       "19"
      ]
     },
     "execution_count": 63,
     "metadata": {},
     "output_type": "execute_result"
    }
   ],
   "source": [
    "len(green_class)"
   ]
  },
  {
   "cell_type": "code",
   "execution_count": 28,
   "metadata": {},
   "outputs": [],
   "source": [
    "orange_indexes = []\n",
    "orange_class = []\n",
    "for label in orange.values.tolist():\n",
    "    result = check_freq(label[0])\n",
    "    orange_indexes.extend(result.index.tolist())\n",
    "    \n",
    "orange_class = [2 for item in orange_indexes]\n",
    "sentences.loc[orange_indexes, 'class'] = orange_class"
   ]
  },
  {
   "cell_type": "code",
   "execution_count": 29,
   "metadata": {},
   "outputs": [],
   "source": [
    "red_indexes = []\n",
    "red_class = []\n",
    "for label in red.values.tolist():\n",
    "    result = check_freq(label[0])\n",
    "    red_indexes.extend(result.index.tolist())\n",
    "    \n",
    "red_class = [3 for item in red_indexes]\n",
    "sentences.loc[red_indexes, 'class'] = red_class"
   ]
  },
  {
   "cell_type": "code",
   "execution_count": 30,
   "metadata": {},
   "outputs": [],
   "source": [
    "purple_indexes = []\n",
    "purple_class = []\n",
    "for label in purple.values.tolist():\n",
    "    result = check_freq(label[0])\n",
    "    purple_indexes.extend(result.index.tolist())\n",
    "    \n",
    "purple_class = [4 for item in purple_indexes]\n",
    "sentences.loc[purple_indexes, 'class'] = purple_class"
   ]
  },
  {
   "cell_type": "code",
   "execution_count": 87,
   "metadata": {},
   "outputs": [
    {
     "data": {
      "text/plain": [
       "([<matplotlib.axis.XTick at 0x7fd86ef6aca0>,\n",
       "  <matplotlib.axis.XTick at 0x7fd86ef6a760>,\n",
       "  <matplotlib.axis.XTick at 0x7fd87281df70>,\n",
       "  <matplotlib.axis.XTick at 0x7fd86eeb8130>,\n",
       "  <matplotlib.axis.XTick at 0x7fd86eeb8e80>],\n",
       " [Text(0, 0, 'No Finding 49.20'),\n",
       "  Text(0, 0, 'Green 7.60'),\n",
       "  Text(0, 0, 'Orange 34.00'),\n",
       "  Text(0, 0, 'Red 7.20'),\n",
       "  Text(0, 0, 'Purple 2.00')])"
      ]
     },
     "execution_count": 87,
     "metadata": {},
     "output_type": "execute_result"
    },
    {
     "data": {
      "image/png": "[encoded data removed]",
      "text/plain": [
       "<Figure size 432x288 with 1 Axes>"
      ]
     },
     "metadata": {
      "needs_background": "light"
     },
     "output_type": "display_data"
    }
   ],
   "source": [
    "plt.hist(sentences['class'])\n",
    "plt.title('Class Distribution')\n",
    "plt.xticks([0, 1, 2, 3, 4], (f\"No Finding {(len(sentences[sentences['class'] == 0])/len(sentences) * 100):.2f}\", \n",
    "                             f\"Green {(len(green_indexes)/len(sentences) * 100):.2f}\", \n",
    "                             f\"Orange {(len(orange_indexes)/len(sentences) * 100):.2f}\", \n",
    "                             f\"Red {(len(red_indexes)/len(sentences) * 100):.2f}\", \n",
    "                             f\"Purple {(len(purple_indexes)/len(sentences) * 100):.2f}\"))"
   ]
  },
  {
   "cell_type": "code",
   "execution_count": 76,
   "metadata": {},
   "outputs": [],
   "source": [
    "new_df = pd.DataFrame(sent_embeddings)\n",
    "new_df['class'] = sentences['class']\n",
    "new_df[\"sentence\"] = sentences.Sentence\n",
    "new_df['translation'] = sentences.Translation"
   ]
  },
  {
   "cell_type": "code",
   "execution_count": 77,
   "metadata": {},
   "outputs": [],
   "source": [
    "new_df = new_df.sample(frac=1).reset_index(drop=True)"
   ]
  },
  {
   "cell_type": "code",
   "execution_count": 88,
   "metadata": {},
   "outputs": [],
   "source": [
    "y = new_df[[\"class\"]]\n",
    "X = new_df.drop([\"class\"], axis = 1)"
   ]
  },
  {
   "cell_type": "code",
   "execution_count": 95,
   "metadata": {},
   "outputs": [
    {
     "name": "stdout",
     "output_type": "stream",
     "text": [
      "confusion matrix score:\n",
      "[[106   0  16   1   0]\n",
      " [  1  12   6   0   0]\n",
      " [  5   1  78   1   0]\n",
      " [  0   2   4  12   0]\n",
      " [  0   1   4   0   0]]\n",
      "\n",
      "[0.82, 0.8, 0.86, 0.82, 0.86]\n"
     ]
    }
   ],
   "source": [
    "skf = StratifiedKFold(n_splits=5, random_state=0, shuffle=True)\n",
    "i = 0\n",
    "conf_scores = []\n",
    "acc_scores = []\n",
    "\n",
    "for train, test in skf.split(X, y): # Provides train/test indices to split data in train/test sets.\n",
    "    clf = KNeighborsClassifier().fit(X.drop([\"sentence\", \"translation\"], axis = 1).loc[train], y.loc[train].values.ravel())\n",
    "    y_pred = clf.predict(X.drop([\"sentence\", \"translation\"], axis = 1).loc[test])\n",
    "    \n",
    "    df_skf = pd.DataFrame(X[['sentence', 'translation']].loc[test])\n",
    " \n",
    "    df_skf['y_true'] = y.loc[test]\n",
    "    df_skf['pred'] = y_pred\n",
    "#     df_skf.to_csv(f\"../data/processed/classification_results/kNN_result_{i}.csv\", index=False)\n",
    "    acc = accuracy_score(y.loc[test], y_pred)\n",
    "    acc_scores.append(round(acc, 4))\n",
    "    conf_scores.append(confusion_matrix(y.loc[test], y_pred))\n",
    "    i += 1\n",
    "print(f\"confusion matrix score:\\n{sum(conf_scores)}\\n\")\n",
    "print(acc_scores)"
   ]
  },
  {
   "cell_type": "code",
   "execution_count": null,
   "metadata": {},
   "outputs": [],
   "source": [
    "skf = StratifiedKFold(n_splits=5, random_state=0, shuffle=True)\n",
    "i = 0\n",
    "conf_scores = []\n",
    "acc_scores = []\n",
    "\n",
    "for train, test in skf.split(X, y): # Provides train/test indices to split data in train/test sets.\n",
    "    clf = LogisticRegression(multi_class='ovr', max_iter=1000).fit(X.drop([\"sentence\", \"translation\"], axis = 1).loc[train], y.loc[train].values.ravel())\n",
    "    y_pred = clf.predict(X.drop([\"sentence\", \"translation\"], axis = 1).loc[test])\n",
    "    \n",
    "    df_skf = pd.DataFrame(X[['sentence', 'translation']].loc[test])\n",
    " \n",
    "    df_skf['y_true'] = y.loc[test]\n",
    "    df_skf['pred'] = y_pred\n",
    "#     df_skf.to_csv(f\"../data/processed/classification_results/result_{i}.csv\", index=False)\n",
    "#     print(confusion_matrix(y.loc[test], y_pred))\n",
    "    acc = accuracy_score(y.loc[test], y_pred)\n",
    "    acc_scores.append(round(acc, 4))\n",
    "    conf_scores.append(confusion_matrix(y.loc[test], y_pred))\n",
    "    i += 1\n",
    "print(f\"confusion matrix score:\\n{sum(conf_scores)}\\n\")\n",
    "print(acc_scores)"
   ]
  }
 ],
 "metadata": {
  "kernelspec": {
   "display_name": "Python 3",
   "language": "python",
   "name": "python3"
  },
  "language_info": {
   "codemirror_mode": {
    "name": "ipython",
    "version": 3
   },
   "file_extension": ".py",
   "mimetype": "text/x-python",
   "name": "python",
   "nbconvert_exporter": "python",
   "pygments_lexer": "ipython3",
   "version": "3.8.3"
  }
 },
 "nbformat": 4,
 "nbformat_minor": 4
}
