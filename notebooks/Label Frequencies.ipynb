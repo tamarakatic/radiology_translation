{
 "cells": [
  {
   "cell_type": "code",
   "execution_count": 30,
   "metadata": {},
   "outputs": [],
   "source": [
    "from numpy import genfromtxt\n",
    "import pandas as pd\n",
    "\n",
    "from sklearn.linear_model import LogisticRegression\n",
    "from sklearn.model_selection import StratifiedKFold\n",
    "from sklearn.model_selection import train_test_split\n",
    "from sklearn.metrics import accuracy_score\n",
    "from sklearn.metrics import confusion_matrix\n",
    "from sklearn.metrics import f1_score"
   ]
  },
  {
   "cell_type": "code",
   "execution_count": 31,
   "metadata": {},
   "outputs": [],
   "source": [
    "sentences = pd.read_csv('../data/processed/temple_radio_1_2_sentences_with_translation.csv')\n",
    "sentences.Translation = [sent.strip() for sent in sentences.Translation.values]\n",
    "labels = pd.read_csv('../data/processed/labels.csv')"
   ]
  },
  {
   "cell_type": "code",
   "execution_count": 32,
   "metadata": {},
   "outputs": [],
   "source": [
    "green = labels[:5]\n",
    "orange = labels[5:12]\n",
    "red = labels[12:18]\n",
    "purple = labels[18:20]"
   ]
  },
  {
   "cell_type": "code",
   "execution_count": 33,
   "metadata": {},
   "outputs": [],
   "source": [
    "def check_freq(label):\n",
    "    pos_res = (sentences['Translation'] == label)\n",
    "    print(f\"Example: {label} \\nPositive: \\\n",
    "    {sentences[pos_res].shape[0]} Negative: {250-sentences[pos_res].shape[0]}\\n\")\n",
    "    return "
   ]
  },
  {
   "cell_type": "code",
   "execution_count": 34,
   "metadata": {},
   "outputs": [
    {
     "name": "stdout",
     "output_type": "stream",
     "text": [
      "Example: There are one or more cysts in the liver, which is a benign finding that can be seen in many people. \n",
      "Positive:     8 Negative: 242\n",
      "\n",
      "Example: There is/are benign calcification(s) in the liver which does not need any follow up. \n",
      "Positive:     7 Negative: 243\n",
      "\n",
      "Example: There is a benign mass in the liver which does not need any follow up. \n",
      "Positive:     1 Negative: 249\n",
      "\n",
      "Example: There is a benign finding in the liver, possibly from old trauma or infection. \n",
      "Positive:     1 Negative: 249\n",
      "\n",
      "Example: There are post surgical changes of the liver. \n",
      "Positive:     2 Negative: 248\n",
      "\n"
     ]
    }
   ],
   "source": [
    "for label in green.values.tolist():\n",
    "    check_freq(label[0])"
   ]
  },
  {
   "cell_type": "code",
   "execution_count": 35,
   "metadata": {},
   "outputs": [
    {
     "name": "stdout",
     "output_type": "stream",
     "text": [
      "Example: The liver is enlarged. \n",
      "Positive:     20 Negative: 230\n",
      "\n",
      "Example: There are one or more lesions in the liver. \n",
      "Positive:     11 Negative: 239\n",
      "\n",
      "Example: There is a mass in the liver. \n",
      "Positive:     0 Negative: 250\n",
      "\n",
      "Example: There is increased amount of fat in the liver. \n",
      "Positive:     24 Negative: 226\n",
      "\n",
      "Example: There are one or more masses in the liver. \n",
      "Positive:     5 Negative: 245\n",
      "\n",
      "Example: There are one or more lesions in the liver, some of which are benign cysts, while others that are smaller and cannot be determined based on this study. \n",
      "Positive:     3 Negative: 247\n",
      "\n",
      "Example: There are one or more lesions in the liver that are too small to be determined on this study. \n",
      "Positive:     21 Negative: 229\n",
      "\n"
     ]
    }
   ],
   "source": [
    "for label in orange.values.tolist():\n",
    "    check_freq(label[0])"
   ]
  },
  {
   "cell_type": "code",
   "execution_count": 36,
   "metadata": {},
   "outputs": [
    {
     "name": "stdout",
     "output_type": "stream",
     "text": [
      "Example: The liver shows bumpy/nodular surface, which can be seen with cirrhosis. \n",
      "Positive:     14 Negative: 236\n",
      "\n",
      "Example: There is an infection in the liver. \n",
      "Positive:     1 Negative: 249\n",
      "\n",
      "Example: There is an injury to the liver. \n",
      "Positive:     2 Negative: 248\n",
      "\n",
      "Example: There are additional complications caused by the mass(s) in the liver. \n",
      "Positive:     0 Negative: 250\n",
      "\n",
      "Example: There are additional complications caused by the infection in the liver. \n",
      "Positive:     0 Negative: 250\n",
      "\n",
      "Example: The blood vessels in the liver shows air, which is a very serious finding and should be discussed immediately with your doctor. \n",
      "Positive:     1 Negative: 249\n",
      "\n"
     ]
    }
   ],
   "source": [
    "for label in red.values.tolist():\n",
    "    check_freq(label[0])"
   ]
  },
  {
   "cell_type": "code",
   "execution_count": 37,
   "metadata": {},
   "outputs": [
    {
     "name": "stdout",
     "output_type": "stream",
     "text": [
      "Example: There is abnormal appearance to the liver, which can sometimes be caused by how the study was performed. \n",
      "Positive:     5 Negative: 245\n",
      "\n",
      "Example: There is abnormal appearance to the liver, which can be seen with underlying cancer. \n",
      "Positive:     0 Negative: 250\n",
      "\n"
     ]
    }
   ],
   "source": [
    "for label in purple.values.tolist():\n",
    "    check_freq(label[0])"
   ]
  },
  {
   "cell_type": "code",
   "execution_count": null,
   "metadata": {},
   "outputs": [],
   "source": []
  }
 ],
 "metadata": {
  "kernelspec": {
   "display_name": "Python 3",
   "language": "python",
   "name": "python3"
  },
  "language_info": {
   "codemirror_mode": {
    "name": "ipython",
    "version": 3
   },
   "file_extension": ".py",
   "mimetype": "text/x-python",
   "name": "python",
   "nbconvert_exporter": "python",
   "pygments_lexer": "ipython3",
   "version": "3.8.3"
  }
 },
 "nbformat": 4,
 "nbformat_minor": 4
}
